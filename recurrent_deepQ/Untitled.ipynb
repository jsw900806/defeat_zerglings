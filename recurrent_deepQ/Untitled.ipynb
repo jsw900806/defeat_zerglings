{
 "cells": [
  {
   "cell_type": "code",
   "execution_count": 2,
   "metadata": {
    "collapsed": true
   },
   "outputs": [],
   "source": [
    "import sys\n",
    "\n",
    "import gflags as flags\n",
    "from baselines import deepq\n",
    "from pysc2.env import sc2_env\n",
    "from pysc2.lib import actions\n",
    "\n",
    "import dqfd\n",
    "\n",
    "_MOVE_SCREEN = actions.FUNCTIONS.Move_screen.id\n",
    "_SELECT_ARMY = actions.FUNCTIONS.select_army.id\n",
    "_SELECT_ALL = [0]\n",
    "_NOT_QUEUED = [0]\n",
    "\n",
    "step_mul = 1\n",
    "steps = 2000\n",
    "\n",
    "FLAGS = flags.FLAGS\n"
   ]
  },
  {
   "cell_type": "code",
   "execution_count": 3,
   "metadata": {
    "collapsed": false
   },
   "outputs": [
    {
     "ename": "UnrecognizedFlagError",
     "evalue": "Unknown command line flag 'f'",
     "output_type": "error",
     "traceback": [
      "\u001b[0;31m---------------------------------------------------------------------------\u001b[0m",
      "\u001b[0;31mUnrecognizedFlagError\u001b[0m                     Traceback (most recent call last)",
      "\u001b[0;32m<ipython-input-3-1d87f8c8d19f>\u001b[0m in \u001b[0;36m<module>\u001b[0;34m()\u001b[0m\n\u001b[1;32m     33\u001b[0m \u001b[0;34m\u001b[0m\u001b[0m\n\u001b[1;32m     34\u001b[0m \u001b[0;32mif\u001b[0m \u001b[0m__name__\u001b[0m \u001b[0;34m==\u001b[0m \u001b[0;34m'__main__'\u001b[0m\u001b[0;34m:\u001b[0m\u001b[0;34m\u001b[0m\u001b[0m\n\u001b[0;32m---> 35\u001b[0;31m   \u001b[0mmain\u001b[0m\u001b[0;34m(\u001b[0m\u001b[0;34m)\u001b[0m\u001b[0;34m\u001b[0m\u001b[0m\n\u001b[0m",
      "\u001b[0;32m<ipython-input-3-1d87f8c8d19f>\u001b[0m in \u001b[0;36mmain\u001b[0;34m()\u001b[0m\n\u001b[1;32m      1\u001b[0m \u001b[0;32mdef\u001b[0m \u001b[0mmain\u001b[0m\u001b[0;34m(\u001b[0m\u001b[0;34m)\u001b[0m\u001b[0;34m:\u001b[0m\u001b[0;34m\u001b[0m\u001b[0m\n\u001b[0;32m----> 2\u001b[0;31m   \u001b[0mFLAGS\u001b[0m\u001b[0;34m(\u001b[0m\u001b[0msys\u001b[0m\u001b[0;34m.\u001b[0m\u001b[0margv\u001b[0m\u001b[0;34m)\u001b[0m\u001b[0;34m\u001b[0m\u001b[0m\n\u001b[0m\u001b[1;32m      3\u001b[0m   with sc2_env.SC2Env(\n\u001b[1;32m      4\u001b[0m       \u001b[0;34m\"DefeatZerglingsAndBanelings\"\u001b[0m\u001b[0;34m,\u001b[0m\u001b[0;34m\u001b[0m\u001b[0m\n\u001b[1;32m      5\u001b[0m       \u001b[0mstep_mul\u001b[0m\u001b[0;34m=\u001b[0m\u001b[0mstep_mul\u001b[0m\u001b[0;34m,\u001b[0m\u001b[0;34m\u001b[0m\u001b[0m\n",
      "\u001b[0;32m/home/ssd/anaconda3/lib/python3.5/site-packages/gflags/flagvalues.py\u001b[0m in \u001b[0;36m__call__\u001b[0;34m(self, argv, known_only)\u001b[0m\n\u001b[1;32m    706\u001b[0m           name, self.RegisteredFlags())\n\u001b[1;32m    707\u001b[0m       raise exceptions.UnrecognizedFlagError(\n\u001b[0;32m--> 708\u001b[0;31m           name, value, suggestions=suggestions)\n\u001b[0m\u001b[1;32m    709\u001b[0m \u001b[0;34m\u001b[0m\u001b[0m\n\u001b[1;32m    710\u001b[0m     \u001b[0mself\u001b[0m\u001b[0;34m.\u001b[0m\u001b[0mMarkAsParsed\u001b[0m\u001b[0;34m(\u001b[0m\u001b[0;34m)\u001b[0m\u001b[0;34m\u001b[0m\u001b[0m\n",
      "\u001b[0;31mUnrecognizedFlagError\u001b[0m: Unknown command line flag 'f'"
     ]
    }
   ],
   "source": [
    "def main():\n",
    "  FLAGS(sys.argv)\n",
    "  with sc2_env.SC2Env(\n",
    "      \"DefeatZerglingsAndBanelings\",\n",
    "      step_mul=step_mul,\n",
    "      visualize=True,\n",
    "      game_steps_per_episode=steps * step_mul) as env:\n",
    "\n",
    "    model = deepq.models.cnn_to_mlp(\n",
    "      convs=[(32, 8, 4), (64, 4, 2), (64, 3, 1)],\n",
    "      hiddens=[256],\n",
    "      dueling=True\n",
    "    )\n",
    "    demo_replay = []\n",
    "    act = dqfd.learn(\n",
    "      env,\n",
    "      q_func=model,\n",
    "      num_actions=3,\n",
    "      lr=1e-4,\n",
    "      max_timesteps=10000000,\n",
    "      buffer_size=100000,\n",
    "      exploration_fraction=0.5,\n",
    "      exploration_final_eps=0.01,\n",
    "      train_freq=2,\n",
    "      learning_starts=100000,\n",
    "      target_network_update_freq=1000,\n",
    "      gamma=0.99,\n",
    "      prioritized_replay=True,\n",
    "      demo_replay=demo_replay\n",
    "    )\n",
    "    act.save(\"defeat_zerglings.pkl\")\n",
    "\n",
    "\n",
    "if __name__ == '__main__':\n",
    "  main()\n"
   ]
  },
  {
   "cell_type": "code",
   "execution_count": null,
   "metadata": {
    "collapsed": true
   },
   "outputs": [],
   "source": []
  }
 ],
 "metadata": {
  "anaconda-cloud": {},
  "kernelspec": {
   "display_name": "Python [conda root]",
   "language": "python",
   "name": "conda-root-py"
  },
  "language_info": {
   "codemirror_mode": {
    "name": "ipython",
    "version": 3
   },
   "file_extension": ".py",
   "mimetype": "text/x-python",
   "name": "python",
   "nbconvert_exporter": "python",
   "pygments_lexer": "ipython3",
   "version": "3.5.2"
  }
 },
 "nbformat": 4,
 "nbformat_minor": 1
}
